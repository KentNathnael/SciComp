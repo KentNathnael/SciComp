{
 "cells": [
  {
   "cell_type": "code",
   "execution_count": 98,
   "metadata": {},
   "outputs": [],
   "source": [
    "import numpy as np"
   ]
  },
  {
   "cell_type": "code",
   "execution_count": 99,
   "metadata": {},
   "outputs": [],
   "source": [
    "def f(x):\n",
    "    return 8 * (x**5) - 10 * (x**4) + (x**3) + 2 * (x**2) - 9*x + 13\n",
    "\n",
    "def g(x):\n",
    "    return 40 * (x**4) - 40 * (x**3) + 3 * (x**2) + 4 * x - 9 \n"
   ]
  },
  {
   "cell_type": "code",
   "execution_count": 100,
   "metadata": {},
   "outputs": [],
   "source": [
    "def newton_raphson(x, tolerance=0.09, max_iteration=50):\n",
    "    for i in range(max_iteration):\n",
    "        x = x - (f(x)/g(x))\n",
    "        print(f\"Iterartion : {i+1} = {x} \")\n",
    "        if np.abs(f(x)) < tolerance:\n",
    "            return x"
   ]
  },
  {
   "cell_type": "code",
   "execution_count": 101,
   "metadata": {},
   "outputs": [
    {
     "name": "stdout",
     "output_type": "stream",
     "text": [
      "Iterartion : 1 = 16.052036983716068 \n",
      "Iterartion : 2 = 12.894186581423082 \n",
      "Iterartion : 3 = 10.368566672584334 \n",
      "Iterartion : 4 = 8.348915747869022 \n",
      "Iterartion : 5 = 6.734286736690917 \n",
      "Iterartion : 6 = 5.444010307897821 \n",
      "Iterartion : 7 = 4.413675208127843 \n",
      "Iterartion : 8 = 3.591917604168425 \n",
      "Iterartion : 9 = 2.9378314691989127 \n",
      "Iterartion : 10 = 2.4187864736521507 \n",
      "Iterartion : 11 = 2.0083148905339354 \n",
      "Iterartion : 12 = 1.6833617512664458 \n",
      "Iterartion : 13 = 1.4189422240170526 \n",
      "Iterartion : 14 = 1.1700431587339606 \n",
      "Iterartion : 15 = 0.6448113710735028 \n",
      "Iterartion : 16 = 1.4752504802471988 \n",
      "Iterartion : 17 = 1.2298242619890858 \n",
      "Iterartion : 18 = 0.862584337976369 \n",
      "Iterartion : 19 = 1.688090775776808 \n",
      "Iterartion : 20 = 1.4229404827607863 \n",
      "Iterartion : 21 = 1.1745085619097795 \n",
      "Iterartion : 22 = 0.666763924988111 \n",
      "Iterartion : 23 = 1.478179233030999 \n",
      "Iterartion : 24 = 1.2327768628316333 \n",
      "Iterartion : 25 = 0.8703627927151409 \n",
      "Iterartion : 26 = 1.7103281290639336 \n",
      "Iterartion : 27 = 1.441642091817484 \n",
      "Iterartion : 28 = 1.1949049104801115 \n",
      "Iterartion : 29 = 0.7527460799252406 \n",
      "Iterartion : 30 = 1.517697087507639 \n",
      "Iterartion : 31 = 1.271459667004071 \n",
      "Iterartion : 32 = 0.9577923439701543 \n",
      "Iterartion : 33 = 2.272089399887961 \n",
      "Iterartion : 34 = 1.8924138646327293 \n",
      "Iterartion : 35 = 1.5906220742800075 \n",
      "Iterartion : 36 = 1.3385709161261428 \n",
      "Iterartion : 37 = 1.0693692834065684 \n",
      "Iterartion : 38 = -1.3081458374761392 \n",
      "Iterartion : 39 = -1.136202783131328 \n",
      "Iterartion : 40 = -1.071590333022182 \n",
      "Iterartion : 41 = -1.06312670220834 \n",
      "Root=-1.06312670220834\n"
     ]
    }
   ],
   "source": [
    "print(f\"Root={newton_raphson(20)}\")"
   ]
  },
  {
   "cell_type": "code",
   "execution_count": 102,
   "metadata": {},
   "outputs": [],
   "source": [
    "iteration = 0\n",
    "def bisection(left, right, max_tolerance=0.09):\n",
    "    global iteration\n",
    "    iteration += 1\n",
    "\n",
    "    if np.sign(f(left)) == np.sign(f(right)):\n",
    "        print(\"No root\")\n",
    "        return False\n",
    "    \n",
    "    x = (left + right) / 2\n",
    "\n",
    "    if np.abs(f(x)) < max_tolerance:\n",
    "        print(f\"Root Found at {iteration} : {x}\")\n",
    "        return True\n",
    "    if np.sign(f(left))== np.sign(f(x)):\n",
    "        return bisection(x, right) \n",
    "    if np.sign(f(right))== np.sign(f(x)):\n",
    "        return bisection(left, x) \n",
    "    "
   ]
  },
  {
   "cell_type": "code",
   "execution_count": 103,
   "metadata": {},
   "outputs": [
    {
     "name": "stdout",
     "output_type": "stream",
     "text": [
      "Root Found at 13 : -1.06201171875\n"
     ]
    },
    {
     "data": {
      "text/plain": [
       "True"
      ]
     },
     "execution_count": 103,
     "metadata": {},
     "output_type": "execute_result"
    }
   ],
   "source": [
    "# iteration = 0\n",
    "bisection(-10, 10)"
   ]
  }
 ],
 "metadata": {
  "kernelspec": {
   "display_name": "sciComp",
   "language": "python",
   "name": "python3"
  },
  "language_info": {
   "codemirror_mode": {
    "name": "ipython",
    "version": 3
   },
   "file_extension": ".py",
   "mimetype": "text/x-python",
   "name": "python",
   "nbconvert_exporter": "python",
   "pygments_lexer": "ipython3",
   "version": "3.12.7"
  }
 },
 "nbformat": 4,
 "nbformat_minor": 2
}
