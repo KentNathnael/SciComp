{
 "cells": [
  {
   "cell_type": "code",
   "execution_count": 1,
   "metadata": {},
   "outputs": [],
   "source": [
    "import numpy as np\n",
    "import matplotlib.pyplot as plt"
   ]
  },
  {
   "cell_type": "markdown",
   "metadata": {},
   "source": [
    "Latihan 1"
   ]
  },
  {
   "cell_type": "code",
   "execution_count": 5,
   "metadata": {},
   "outputs": [
    {
     "name": "stdout",
     "output_type": "stream",
     "text": [
      "System 1 : \n",
      "iteration 1 : [2.4        1.53333333 1.86666667]\n",
      "iteration 2 : [1.34666667 1.57333333 2.01142857]\n",
      "iteration 3 : [1.2807619  1.5711746  2.02115193]\n",
      "iteration 4 : [1.27730431 1.57070658 2.02171273]\n",
      "iteration 5 : [1.27717359 1.57065668 2.02173853]\n",
      "Converged\n",
      "Result : [1.27717359 1.57065668 2.02173853]\n",
      "System 2 : \n",
      "iteration 1 : [1.3        2.0875     1.72083333]\n",
      "iteration 2 : [1.05458333 1.68796875 1.73097801]\n",
      "iteration 3 : [1.13550405 1.67531749 1.71158993]\n",
      "iteration 4 : [1.13609549 1.68009058 1.71198884]\n",
      "iteration 5 : [1.13518077 1.68010519 1.71219374]\n",
      "Converged\n",
      "Result : [1.13518077 1.68010519 1.71219374]\n",
      "System 3 : \n",
      "iteration 1 : [1.83333333 1.92857143 1.77380952]\n",
      "iteration 2 : [1.85912698 1.41071429 1.63789683]\n",
      "iteration 3 : [1.79546958 1.47682823 1.67033966]\n",
      "iteration 4 : [1.80108143 1.46515377 1.66601809]\n",
      "iteration 5 : [1.79985595 1.46691371 1.66676444]\n",
      "iteration 6 : [1.80002488 1.46662807 1.6666508 ]\n",
      "Converged\n",
      "Result : [1.80002488 1.46662807 1.6666508 ]\n"
     ]
    }
   ],
   "source": [
    "x = [\n",
    "    [\n",
    "        [5, 1, 2],\n",
    "        [2, 6, 1],\n",
    "        [1, 1, 7]\n",
    "    ],\n",
    "    [\n",
    "        [10, 2, -1],\n",
    "        [1, 8, 2],\n",
    "        [2, -1, 9]\n",
    "    ],\n",
    "    [\n",
    "        [6, -1, 1],\n",
    "        [3, 7, 2],\n",
    "        [2, -2, 8]\n",
    "    ],\n",
    "    [\n",
    "        [4, 2, 1],\n",
    "        [1, 5, 2],\n",
    "        [3, 1, 6]\n",
    "    ],\n",
    "    [\n",
    "        [8, -1, 2],\n",
    "        [1, 9, 1],\n",
    "        [2, 3, 10]\n",
    "    ]\n",
    "]\n",
    "y = [\n",
    "    [12, 14, 17],\n",
    "    [13, 18, 16],\n",
    "    [11, 19, 14],\n",
    "    [10, 13, 15],\n",
    "    [17, 14, 19]\n",
    "]\n",
    "\n",
    "def diagonal_dominant(x):\n",
    "    x = np.array(x)\n",
    "    diag = np.diag(np.abs(x))\n",
    "    off_diag = np.sum(np.abs(x), axis = 1) - diag\n",
    "    result = np.all(diag > off_diag)\n",
    "    return result\n",
    "\n",
    "def gauss_seidel(x, y, tol = 0.001, max_iter = 45):\n",
    "    if not diagonal_dominant(x):\n",
    "        print(\"Not Diagonal Dominant\")\n",
    "        return\n",
    "    \n",
    "    x = np.array(x)\n",
    "    y = np.array(y)\n",
    "\n",
    "    diag = np.diag(x)\n",
    "    x = -x\n",
    "    np.fill_diagonal(x, 0)\n",
    "\n",
    "    old_res = np.zeros(len(x[0]))\n",
    "\n",
    "    for i in range(max_iter):\n",
    "        new_res = np.array(old_res)\n",
    "\n",
    "        for idx, row in enumerate(x):\n",
    "            new_res[idx] = (y[idx] + np.dot(row, new_res)) / diag[idx]\n",
    "\n",
    "        print(f\"iteration {i+1} : {new_res}\")\n",
    "\n",
    "        distance = np.sqrt(np.dot(old_res-new_res, old_res-new_res))\n",
    "\n",
    "        if distance < tol:\n",
    "            print(\"Converged\")\n",
    "            print(f\"Result : {new_res}\")\n",
    "            return\n",
    "        \n",
    "        old_res = new_res\n",
    "\n",
    "for i in range(0,3):\n",
    "    print(f\"System {i+1} : \")\n",
    "    gauss_seidel(x[i], y[i])"
   ]
  },
  {
   "cell_type": "markdown",
   "metadata": {},
   "source": [
    "Linear Regre"
   ]
  },
  {
   "cell_type": "code",
   "execution_count": 8,
   "metadata": {},
   "outputs": [
    {
     "name": "stdout",
     "output_type": "stream",
     "text": [
      "Alpha : [[2.]\n",
      " [1.]]\n"
     ]
    },
    {
     "data": {
      "image/png": "[encoded data removed]",
      "text/plain": [
       "<Figure size 640x480 with 1 Axes>"
      ]
     },
     "metadata": {},
     "output_type": "display_data"
    }
   ],
   "source": [
    "x = [1, 2, 3, 4, 5]\n",
    "y = [3, 5, 7, 9, 11]\n",
    "\n",
    "x = np.array(x)\n",
    "y = np.array(y)\n",
    "\n",
    "A = np.vstack([x, np.ones(len(x))]).T\n",
    "Y = y[:, np.newaxis]\n",
    "alpha = np.linalg.inv(np.dot(A.T, A))\n",
    "alpha = np.dot(alpha, A.T)\n",
    "alpha = np.dot(alpha, Y)\n",
    "\n",
    "print(f\"Alpha : {alpha}\")\n",
    "\n",
    "plt.plot(x, y, \"ro\")\n",
    "plt.plot(x, alpha[0]*x+alpha[1], \"b-\")\n",
    "plt.show()"
   ]
  },
  {
   "cell_type": "markdown",
   "metadata": {},
   "source": [
    "newton raphson "
   ]
  },
  {
   "cell_type": "code",
   "execution_count": 9,
   "metadata": {},
   "outputs": [
    {
     "name": "stdout",
     "output_type": "stream",
     "text": [
      "iteration 1 : 1.5217391304347827\n",
      "Found root at 1 iteration: 1.5217391304347827\n"
     ]
    }
   ],
   "source": [
    "def f(x):\n",
    "    return x**3 - x - 2\n",
    "\n",
    "def g(x):\n",
    "    return 3 * (x**2) - 1\n",
    "\n",
    "def newton_raphson(x, tol = 0.01, max_iter = 20):\n",
    "    found = False\n",
    "    for i in range(max_iter):\n",
    "        x = x - (f(x)/g(x))\n",
    "\n",
    "        print(f\"iteration {i+1} : {x}\")\n",
    "\n",
    "        if np.abs(f(x)) < tol:\n",
    "            print(f\"Found root at {i+1} iteration: {x}\")\n",
    "            found = True\n",
    "            return\n",
    "    \n",
    "    if found == False:\n",
    "        print(\"Error\")\n",
    "        return\n",
    "\n",
    "newton_raphson(1.5)\n",
    "    \n",
    "\n"
   ]
  },
  {
   "cell_type": "markdown",
   "metadata": {},
   "source": [
    "Intergration"
   ]
  },
  {
   "cell_type": "code",
   "execution_count": 10,
   "metadata": {},
   "outputs": [
    {
     "name": "stdout",
     "output_type": "stream",
     "text": [
      "right : 69.39740808542943\n",
      "mid : 69.33332798931731\n"
     ]
    }
   ],
   "source": [
    "def f(x):\n",
    "    return x**2 + 2*x + 1\n",
    "\n",
    "a = 1\n",
    "b = 5\n",
    "n = 1000\n",
    "\n",
    "width = (b-a) / (n-1)\n",
    "x = np.linspace(a, b, n)\n",
    "y = f(x)\n",
    "\n",
    "right_rieman = width * np.sum(f(x[1:]))\n",
    "\n",
    "mid = (x[:-1] + x[1:]) / 2\n",
    "mid_rieman = width * np.sum(f(mid))\n",
    "\n",
    "print(f\"right : {right_rieman}\")\n",
    "print(f\"mid : {mid_rieman}\")"
   ]
  },
  {
   "cell_type": "code",
   "execution_count": null,
   "metadata": {},
   "outputs": [],
   "source": []
  }
 ],
 "metadata": {
  "kernelspec": {
   "display_name": "sciComp",
   "language": "python",
   "name": "python3"
  },
  "language_info": {
   "codemirror_mode": {
    "name": "ipython",
    "version": 3
   },
   "file_extension": ".py",
   "mimetype": "text/x-python",
   "name": "python",
   "nbconvert_exporter": "python",
   "pygments_lexer": "ipython3",
   "version": "3.12.7"
  }
 },
 "nbformat": 4,
 "nbformat_minor": 2
}
