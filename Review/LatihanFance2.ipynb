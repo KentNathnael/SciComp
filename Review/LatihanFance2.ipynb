{
 "cells": [
  {
   "cell_type": "code",
   "execution_count": 1,
   "metadata": {},
   "outputs": [],
   "source": [
    "import numpy as np \n",
    "import matplotlib.pyplot as plt"
   ]
  },
  {
   "cell_type": "code",
   "execution_count": 5,
   "metadata": {},
   "outputs": [
    {
     "name": "stdout",
     "output_type": "stream",
     "text": [
      "Matrix 1 : \n",
      "Diagonal Dominant\n",
      "iteration 1 : [1.88888889 1.63888889 1.66111111]\n",
      "iteration 2 : [1.70185185 1.86990741 1.76342593]\n",
      "iteration 3 : [1.70478395 1.88233025 1.76503086]\n",
      "iteration 4 : [1.70580761 1.88240291 1.7647383 ]\n",
      "iteration 5 : [1.7058807  1.8823572  1.76470723]\n",
      "Converged\n",
      "Result : [1.7058807  1.8823572  1.76470723]\n",
      "Matrix 2 : \n",
      "Diagonal Dominant\n",
      "iteration 1 : [1.71428571 1.88095238 0.54761905]\n",
      "iteration 2 : [1.09863946 1.80102041 0.71107332]\n",
      "iteration 3 : [1.09812655 1.74662114 0.72932039]\n",
      "iteration 4 : [1.11106248 1.73838279 0.72919185]\n",
      "iteration 5 : [1.11343465 1.73803027 0.72878221]\n",
      "iteration 6 : [1.11359389 1.73814028 0.72871015]\n",
      "Converged\n",
      "Result : [1.11359389 1.73814028 0.72871015]\n",
      "Matrix 3 : \n",
      "Diagonal Dominant\n",
      "iteration 1 : [2.16666667 1.52380952 0.80654762]\n",
      "iteration 2 : [1.64384921 1.55796485 0.99406533]\n",
      "iteration 3 : [1.57565075 1.55066188 1.0214655 ]\n",
      "iteration 4 : [1.56773452 1.54900935 1.02484722]\n",
      "iteration 5 : [1.5668827  1.54876963 1.02522658]\n",
      "Converged\n",
      "Result : [1.5668827  1.54876963 1.02522658]\n"
     ]
    }
   ],
   "source": [
    "x = [\n",
    "    [\n",
    "        [9, -1, 2],\n",
    "        [1, 8, -1],\n",
    "        [3, -2, 10]\n",
    "    ],\n",
    "    [\n",
    "        [7, 2, 1],\n",
    "        [1, 6, 2],\n",
    "        [2, 3, 9]\n",
    "    ],\n",
    "    [\n",
    "        [6, 1, 2],\n",
    "        [2, 7, 1],\n",
    "        [3, 2, 8]\n",
    "    ],\n",
    "    [\n",
    "        [8, 1, -2],\n",
    "        [2, 9, 1],\n",
    "        [1, -1, 7]\n",
    "    ],\n",
    "    [\n",
    "        [10, 3, 1],\n",
    "        [2, 7, 2],\n",
    "        [3, 1, 6]\n",
    "    ]\n",
    "]\n",
    "y = [\n",
    "    [17, 15, 19],\n",
    "    [12, 13, 14],\n",
    "    [13, 15, 16],\n",
    "    [16, 14, 13],\n",
    "    [18, 16, 17]\n",
    "]\n",
    "\n",
    "def diagonal_dominant(x):\n",
    "    x = np.array(x)\n",
    "    diag = np.diag(np.abs(x))\n",
    "    off_diag = np.sum(np.abs(x), axis= 1) - diag\n",
    "    result = np.all(diag > off_diag)\n",
    "    return result\n",
    "\n",
    "def gauss_seidel(x, y, tol = 0.001, max_iter = 45):\n",
    "    if not diagonal_dominant(x):\n",
    "        print(\"Not Diagonal Dominant\")\n",
    "        return\n",
    "    \n",
    "    print(\"Diagonal Dominant\")\n",
    "    x = np.array(x)\n",
    "    y = np.array(y)\n",
    "\n",
    "    diag = np.diag(x)\n",
    "    x = -x\n",
    "    np.fill_diagonal(x, 0)\n",
    "\n",
    "    old_res = np.zeros(len(x[0]))\n",
    "\n",
    "    for i in range(max_iter):\n",
    "        new_res = np.array(old_res)\n",
    "\n",
    "        for idx, row in enumerate(x):\n",
    "            new_res[idx] = (y[idx] + np.dot(row, new_res)) / diag[idx]\n",
    "\n",
    "        print(f\"iteration {i+1} : {new_res}\")\n",
    "\n",
    "        distance = np.sqrt(np.dot(old_res - new_res, old_res -new_res))\n",
    "\n",
    "        if distance < tol:\n",
    "            print(\"Converged\")\n",
    "            print(f\"Result : {new_res}\")\n",
    "            return new_res  \n",
    "        \n",
    "        old_res = new_res\n",
    "\n",
    "    \n",
    "for i in range(0,3):\n",
    "    print(f\"Matrix {i+1} : \")\n",
    "    gauss_seidel(x[i], y[i])\n"
   ]
  },
  {
   "cell_type": "code",
   "execution_count": 6,
   "metadata": {},
   "outputs": [
    {
     "name": "stdout",
     "output_type": "stream",
     "text": [
      "alpha : [[1.38018433]\n",
      " [2.38479263]]\n"
     ]
    },
    {
     "data": {
      "image/png": "[encoded data removed]",
      "text/plain": [
       "<Figure size 640x480 with 1 Axes>"
      ]
     },
     "metadata": {},
     "output_type": "display_data"
    }
   ],
   "source": [
    "x = [2.1, 2.3, 2.6, 3.0, 3.5, 4.1]\n",
    "y = [5.2, 5.5, 6.0, 6.8, 7.1, 8.0]\n",
    "\n",
    "x = np.array(x)\n",
    "y = np.array(y)\n",
    "\n",
    "A = np.vstack([x, np.ones(len(x))]).T\n",
    "Y = y[:, np.newaxis]\n",
    "alpha = np.linalg.inv(np.dot(A.T, A))\n",
    "alpha = np.dot(alpha, A.T)\n",
    "alpha = np.dot(alpha ,Y)\n",
    "\n",
    "print(f\"alpha : {alpha}\")\n",
    "\n",
    "plt.plot(x, y, \"ro\")\n",
    "plt.plot(x, alpha[0]*x+alpha[1], \"b-\")\n",
    "plt.show()"
   ]
  },
  {
   "cell_type": "code",
   "execution_count": 10,
   "metadata": {},
   "outputs": [
    {
     "name": "stdout",
     "output_type": "stream",
     "text": [
      "iteration 1 : 1.3804597701149426\n",
      "iteration 2 : 1.3653424684632482\n",
      "Root is found at 2 iteration : 1.3653424684632482\n"
     ]
    }
   ],
   "source": [
    "def f(x):\n",
    "    return x ** 3 + 4*(x**2) - 10\n",
    "\n",
    "def g(x):\n",
    "    return 3 * (x**2) + 8*x\n",
    "\n",
    "def newton_raphson(x, tol= 0.005, max_iter = 20):\n",
    "    found = False\n",
    "    for i in range(max_iter):\n",
    "        x = x - (f(x)/g(x))\n",
    "\n",
    "        print(f\"iteration {i+1} : {x}\")\n",
    "\n",
    "        if np.abs(f(x)) <tol:\n",
    "            print(f\"Root is found at {i+1} iteration : {x}\")\n",
    "            found = True\n",
    "            return \n",
    "        \n",
    "    if found == False:\n",
    "        print(\"error\")\n",
    "        return\n",
    "    \n",
    "newton_raphson(1.2)"
   ]
  },
  {
   "cell_type": "code",
   "execution_count": 11,
   "metadata": {},
   "outputs": [
    {
     "name": "stdout",
     "output_type": "stream",
     "text": [
      "Left = 12.316616505214359\n",
      "right = 12.322810573013951\n",
      "mid = 12.319713328034231\n"
     ]
    }
   ],
   "source": [
    "def f(x):\n",
    "    return np.sin(x) + x**2\n",
    "\n",
    "a = 0\n",
    "b = 3.14\n",
    "n = 5000\n",
    "\n",
    "width = (b-a) / (n-1)\n",
    "x = np.linspace(a,b,n)\n",
    "y = f(x)\n",
    "\n",
    "left_rieman = width * np.sum(f(x[:-1]))\n",
    "right_rieman = width * np.sum(f(x[1:]))\n",
    "\n",
    "mid = (x[:-1] + x[1:]) /2 \n",
    "mid_rieman = width * np.sum(f(mid))\n",
    "\n",
    "print(f\"Left = {left_rieman}\")\n",
    "print(f\"right = {right_rieman}\")\n",
    "print(f\"mid = {mid_rieman}\")"
   ]
  }
 ],
 "metadata": {
  "kernelspec": {
   "display_name": "sciComp",
   "language": "python",
   "name": "python3"
  },
  "language_info": {
   "codemirror_mode": {
    "name": "ipython",
    "version": 3
   },
   "file_extension": ".py",
   "mimetype": "text/x-python",
   "name": "python",
   "nbconvert_exporter": "python",
   "pygments_lexer": "ipython3",
   "version": "3.12.7"
  }
 },
 "nbformat": 4,
 "nbformat_minor": 2
}
