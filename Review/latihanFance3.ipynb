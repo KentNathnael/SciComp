{
 "cells": [
  {
   "cell_type": "code",
   "execution_count": 1,
   "metadata": {},
   "outputs": [],
   "source": [
    "import numpy as np\n",
    "import matplotlib.pyplot as plt"
   ]
  },
  {
   "cell_type": "code",
   "execution_count": 3,
   "metadata": {},
   "outputs": [
    {
     "name": "stdout",
     "output_type": "stream",
     "text": [
      "Matrix 1 : \n",
      "Diagonal Dominant\n",
      "Iteration 1 : [1.83333333 1.5952381  1.2172619 ]\n",
      "Iteration 2 : [1.09871032 1.52628968 1.40953621]\n",
      "Iteration 3 : [1.0896474  1.50011663 1.41507357]\n",
      "Iteration 4 : [1.09744886 1.49821108 1.4133614 ]\n",
      "Iteration 5 : [1.09836941 1.49832417 1.41311713]\n",
      "Converged\n",
      "Result : [1.09836941 1.49832417 1.41311713]\n",
      "Matrix 2 : \n",
      "Diagonal Dominant\n",
      "Iteration 1 : [2.28571429 1.39285714 1.45634921]\n",
      "Iteration 2 : [2.0685941  1.29223356 1.46929327]\n",
      "Iteration 3 : [2.050521   1.29739297 1.47187466]\n",
      "Iteration 4 : [2.05052052 1.29707047 1.47183888]\n",
      "Converged\n",
      "Result : [2.05052052 1.29707047 1.47183888]\n",
      "Matrix 3 : \n",
      "Diagonal Dominant\n",
      "Iteration 1 : [2.4        2.1        0.87142857]\n",
      "Iteration 2 : [1.63142857 2.37333333 1.05197279]\n",
      "Iteration 3 : [1.50454422 2.42457143 1.08090573]\n",
      "Iteration 4 : [1.48272342 2.43303039 1.08593182]\n",
      "Iteration 5 : [1.47902119 2.43448511 1.08678179]\n",
      "Iteration 6 : [1.47839026 2.43473192 1.08692679]\n",
      "Converged\n",
      "Result : [1.47839026 2.43473192 1.08692679]\n"
     ]
    }
   ],
   "source": [
    "x = [\n",
    "    [\n",
    "        [6, 2, 1],\n",
    "        [1, 7, 1],\n",
    "        [2, 1, 8]\n",
    "    ],\n",
    "    [\n",
    "        [7, -1, 2],\n",
    "        [3, 8, 1],\n",
    "        [1, -1, 9]\n",
    "    ],\n",
    "    [\n",
    "        [5, 1, 2],\n",
    "        [1, 6, -1],\n",
    "        [2, 1, 7]\n",
    "    ],\n",
    "    [\n",
    "        [9, 2, -1],\n",
    "        [2, 7, 2],\n",
    "        [3, 1, 6]\n",
    "    ],\n",
    "    [\n",
    "        [8, -2, 1],\n",
    "        [1, 9, -1],\n",
    "        [2, 1, 7]\n",
    "    ]\n",
    "]\n",
    "y = [\n",
    "    [11, 13, 15],\n",
    "    [16, 18, 14],\n",
    "    [12, 15, 13],\n",
    "    [19, 16, 17],\n",
    "    [14, 13, 15]\n",
    "]\n",
    "\n",
    "def diagonal_dominant(x):\n",
    "    x = np.array(x)\n",
    "    diag = np.diag(np.abs(x))\n",
    "    off_diag = np.sum(np.abs(x), axis =1 ) - diag\n",
    "    result = np.all(diag > off_diag)\n",
    "    return result\n",
    "\n",
    "def gauss_seidel(x, y, tol = 0.001, max_iter = 45):\n",
    "    if not diagonal_dominant(x):\n",
    "        print(\"Not Diagonal Dominant\")\n",
    "        return \n",
    "    \n",
    "    x = np.array(x)\n",
    "    y = np.array(y)\n",
    "\n",
    "    diag = np.diag(x)\n",
    "    x = -x\n",
    "    np.fill_diagonal(x, 0)\n",
    "\n",
    "    old_res = np.zeros(len(x[0]))\n",
    "    print(\"Diagonal Dominant\")\n",
    "\n",
    "    for i in range(max_iter):\n",
    "        new_res = np.array(old_res)\n",
    "\n",
    "        for idx, row in enumerate(x):\n",
    "            new_res[idx] = (y[idx] + np.dot(row, new_res)) / diag[idx]\n",
    "        \n",
    "        print(f\"Iteration {i+1} : {new_res}\")\n",
    "        distance = np.sqrt(np.dot(old_res - new_res, old_res - new_res))\n",
    "\n",
    "        if distance < tol:\n",
    "            print(\"Converged\")\n",
    "            print(f\"Result : {new_res}\")\n",
    "            return\n",
    "\n",
    "        old_res = new_res\n",
    "\n",
    "for i in range(0,3):\n",
    "    print(f\"Matrix {i+1} : \")\n",
    "    gauss_seidel(x[i], y[i])"
   ]
  },
  {
   "cell_type": "code",
   "execution_count": 5,
   "metadata": {},
   "outputs": [
    {
     "name": "stdout",
     "output_type": "stream",
     "text": [
      "alpha : [[2.2]\n",
      " [0.7]]\n"
     ]
    },
    {
     "data": {
      "image/png": "[encoded data removed]",
      "text/plain": [
       "<Figure size 640x480 with 1 Axes>"
      ]
     },
     "metadata": {},
     "output_type": "display_data"
    }
   ],
   "source": [
    "x = [1.5, 2.0, 2.5, 3.0, 3.5]\n",
    "y = [4.0, 5.1, 6.2, 7.3, 8.4]\n",
    "\n",
    "x = np.array(x)\n",
    "y = np.array(y)\n",
    "\n",
    "A = np.vstack([x, np.ones(len(x))]).T\n",
    "Y = y[:, np.newaxis]\n",
    "alpha = np.linalg.inv(np.dot(A.T, A))\n",
    "alpha = np.dot(alpha, A.T)\n",
    "alpha = np.dot(alpha, Y)\n",
    "\n",
    "print(f\"alpha : {alpha}\")\n",
    "\n",
    "plt.plot(x, y, \"ro\")\n",
    "plt.plot(x, alpha[0]*x+alpha[1], \"b-\")\n",
    "plt.show()"
   ]
  },
  {
   "cell_type": "code",
   "execution_count": 6,
   "metadata": {},
   "outputs": [
    {
     "name": "stdout",
     "output_type": "stream",
     "text": [
      "iteration 1 : 1.2142857142857142\n",
      "iteration 2 : 1.162672109711684\n",
      "iteration 3 : 1.1576408093453536\n",
      "Found root at 3 iteration : 1.1576408093453536 \n"
     ]
    }
   ],
   "source": [
    "def f(x):\n",
    "    return 3 * (x**5) - x**3 + 2*x - 7\n",
    "\n",
    "def g(x):\n",
    "    return 15 * (x**4) - 3 * (x**2) + 2\n",
    "\n",
    "def newton_raphson(x, tol = 0.003, max_iter = 20):\n",
    "    found = False\n",
    "    for i in range(max_iter):\n",
    "        x = x - (f(x)/g(x))\n",
    "\n",
    "        print(f\"iteration {i+1} : {x}\")\n",
    "\n",
    "        if np.abs(f(x)) < tol:\n",
    "            print(f\"Found root at {i+1} iteration : {x} \")\n",
    "            found = True\n",
    "            return\n",
    "        \n",
    "    if found == False:\n",
    "        print(\"error\")\n",
    "        return\n",
    "    \n",
    "newton_raphson(1)"
   ]
  },
  {
   "cell_type": "code",
   "execution_count": 7,
   "metadata": {},
   "outputs": [
    {
     "name": "stdout",
     "output_type": "stream",
     "text": [
      "Left : 1099.8511899194723\n",
      "right : 1100.1488196824484\n"
     ]
    }
   ],
   "source": [
    "def f(x):\n",
    "    return 4 * (x**3) - 3* (x**2) + 2*x - 1\n",
    "    \n",
    "a = 2\n",
    "b = 6\n",
    "n = 10000\n",
    "\n",
    "width = (b-a) / (n-1)\n",
    "x = np.linspace(a,b,n)\n",
    "y = f(x)\n",
    "\n",
    "left_rieman = width * np.sum(f(x[:-1]))\n",
    "right_rieman = width * np.sum(f(x[1:]))\n",
    "\n",
    "print(f\"Left : {left_rieman}\")\n",
    "print(f\"right : {right_rieman}\")"
   ]
  }
 ],
 "metadata": {
  "kernelspec": {
   "display_name": "sciComp",
   "language": "python",
   "name": "python3"
  },
  "language_info": {
   "codemirror_mode": {
    "name": "ipython",
    "version": 3
   },
   "file_extension": ".py",
   "mimetype": "text/x-python",
   "name": "python",
   "nbconvert_exporter": "python",
   "pygments_lexer": "ipython3",
   "version": "3.12.7"
  }
 },
 "nbformat": 4,
 "nbformat_minor": 2
}
